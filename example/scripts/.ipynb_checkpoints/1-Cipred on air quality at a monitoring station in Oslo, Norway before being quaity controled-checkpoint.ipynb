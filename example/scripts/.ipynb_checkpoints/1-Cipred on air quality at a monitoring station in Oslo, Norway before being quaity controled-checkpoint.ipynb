{
 "cells": [
  {
   "cell_type": "code",
   "execution_count": 1,
   "id": "0ffce37f",
   "metadata": {},
   "outputs": [],
   "source": [
    "import os\n",
    "\n",
    "import polars as pl\n",
    "import numpy as np\n",
    "\n",
    "from datetime import datetime\n",
    "from sklearn.model_selection import train_test_split\n",
    "\n",
    "from sklearn.ensemble import RandomForestRegressor\n",
    "\n",
    "from cipred.lu2019 import lu_fit, lu_pred_prime\n",
    "from sklearn import metrics\n",
    "\n",
    "import matplotlib.pyplot as plt"
   ]
  },
  {
   "cell_type": "code",
   "execution_count": 2,
   "id": "17988f5c",
   "metadata": {},
   "outputs": [],
   "source": [
    "import cipred"
   ]
  },
  {
   "cell_type": "code",
   "execution_count": 3,
   "id": "50bca63e",
   "metadata": {},
   "outputs": [
    {
     "data": {
      "text/plain": [
       "'0.2-b'"
      ]
     },
     "execution_count": 3,
     "metadata": {},
     "output_type": "execute_result"
    }
   ],
   "source": [
    "cipred.__version__"
   ]
  },
  {
   "cell_type": "markdown",
   "id": "1fc128ca",
   "metadata": {},
   "source": [
    "# Data"
   ]
  },
  {
   "cell_type": "markdown",
   "id": "e08a3b5d",
   "metadata": {},
   "source": [
    "Dataset providing hourly $NO_2$ measured by reference air quality stations from 2015 to 2018 in Oslo, Norway.\n",
    "\n",
    "This dataset is embedded in this example.\n",
    "\n",
    "This dataset has been part of peer review studies. There is **no** quality control. \n",
    "\n",
    "Use it **only** for research purpose."
   ]
  },
  {
   "cell_type": "code",
   "execution_count": 4,
   "id": "bb925ea3",
   "metadata": {},
   "outputs": [],
   "source": [
    "parent_dir = os.path.abspath(os.path.join(os.path.abspath(os.getcwd()), os.pardir))\n",
    "data_dir = os.path.join(parent_dir,\"data\")"
   ]
  },
  {
   "cell_type": "code",
   "execution_count": 5,
   "id": "69793f98",
   "metadata": {},
   "outputs": [],
   "source": [
    "# read data"
   ]
  },
  {
   "cell_type": "code",
   "execution_count": 6,
   "id": "0f1039c4",
   "metadata": {},
   "outputs": [],
   "source": [
    "df = pl.read_csv(os.path.join(data_dir,'no2_oslo10_2015_2018.csv'),null_values='NA')"
   ]
  },
  {
   "cell_type": "code",
   "execution_count": 7,
   "id": "da7c634d",
   "metadata": {},
   "outputs": [],
   "source": [
    "df = df.drop_nulls()"
   ]
  },
  {
   "cell_type": "code",
   "execution_count": 8,
   "id": "b51d0740",
   "metadata": {},
   "outputs": [
    {
     "data": {
      "text/html": [
       "<div>\n",
       "<style>\n",
       ".pl-dataframe > thead > tr > th {\n",
       "  text-align: right;\n",
       "}\n",
       "</style>\n",
       "\n",
       "<table border=\"1\" class=\"dataframe pl-dataframe\">\n",
       "<small>shape: (5, 16)</small>\n",
       "<thead>\n",
       "<tr>\n",
       "<th>\n",
       "\n",
       "</th>\n",
       "<th>\n",
       "WDAY\n",
       "</th>\n",
       "<th>\n",
       "YEAR\n",
       "</th>\n",
       "<th>\n",
       "MONTH\n",
       "</th>\n",
       "<th>\n",
       "DAY\n",
       "</th>\n",
       "<th>\n",
       "HOUR\n",
       "</th>\n",
       "<th>\n",
       "NO2_11\n",
       "</th>\n",
       "<th>\n",
       "NO2_163\n",
       "</th>\n",
       "<th>\n",
       "NO2_464\n",
       "</th>\n",
       "<th>\n",
       "NO2_504\n",
       "</th>\n",
       "<th>\n",
       "NO2_665\n",
       "</th>\n",
       "<th>\n",
       "NO2_7\n",
       "</th>\n",
       "<th>\n",
       "NO2_809\n",
       "</th>\n",
       "<th>\n",
       "NO2_827\n",
       "</th>\n",
       "<th>\n",
       "NO2_848\n",
       "</th>\n",
       "<th>\n",
       "NO2_9\n",
       "</th>\n",
       "</tr>\n",
       "<tr>\n",
       "<td>\n",
       "i64\n",
       "</td>\n",
       "<td>\n",
       "i64\n",
       "</td>\n",
       "<td>\n",
       "i64\n",
       "</td>\n",
       "<td>\n",
       "i64\n",
       "</td>\n",
       "<td>\n",
       "i64\n",
       "</td>\n",
       "<td>\n",
       "i64\n",
       "</td>\n",
       "<td>\n",
       "f64\n",
       "</td>\n",
       "<td>\n",
       "f64\n",
       "</td>\n",
       "<td>\n",
       "f64\n",
       "</td>\n",
       "<td>\n",
       "f64\n",
       "</td>\n",
       "<td>\n",
       "f64\n",
       "</td>\n",
       "<td>\n",
       "f64\n",
       "</td>\n",
       "<td>\n",
       "f64\n",
       "</td>\n",
       "<td>\n",
       "f64\n",
       "</td>\n",
       "<td>\n",
       "f64\n",
       "</td>\n",
       "<td>\n",
       "f64\n",
       "</td>\n",
       "</tr>\n",
       "</thead>\n",
       "<tbody>\n",
       "<tr>\n",
       "<td>\n",
       "1\n",
       "</td>\n",
       "<td>\n",
       "4\n",
       "</td>\n",
       "<td>\n",
       "2015\n",
       "</td>\n",
       "<td>\n",
       "1\n",
       "</td>\n",
       "<td>\n",
       "1\n",
       "</td>\n",
       "<td>\n",
       "1\n",
       "</td>\n",
       "<td>\n",
       "106.553432\n",
       "</td>\n",
       "<td>\n",
       "52.929326\n",
       "</td>\n",
       "<td>\n",
       "51.463153\n",
       "</td>\n",
       "<td>\n",
       "59.14449\n",
       "</td>\n",
       "<td>\n",
       "56.762501\n",
       "</td>\n",
       "<td>\n",
       "41.609032\n",
       "</td>\n",
       "<td>\n",
       "37.382295\n",
       "</td>\n",
       "<td>\n",
       "49.283147\n",
       "</td>\n",
       "<td>\n",
       "39.97828\n",
       "</td>\n",
       "<td>\n",
       "62.58942\n",
       "</td>\n",
       "</tr>\n",
       "<tr>\n",
       "<td>\n",
       "2\n",
       "</td>\n",
       "<td>\n",
       "4\n",
       "</td>\n",
       "<td>\n",
       "2015\n",
       "</td>\n",
       "<td>\n",
       "1\n",
       "</td>\n",
       "<td>\n",
       "1\n",
       "</td>\n",
       "<td>\n",
       "2\n",
       "</td>\n",
       "<td>\n",
       "78.5703\n",
       "</td>\n",
       "<td>\n",
       "29.593088\n",
       "</td>\n",
       "<td>\n",
       "56.232895\n",
       "</td>\n",
       "<td>\n",
       "53.827484\n",
       "</td>\n",
       "<td>\n",
       "43.273618\n",
       "</td>\n",
       "<td>\n",
       "42.059002\n",
       "</td>\n",
       "<td>\n",
       "37.933811\n",
       "</td>\n",
       "<td>\n",
       "47.81783\n",
       "</td>\n",
       "<td>\n",
       "40.339991\n",
       "</td>\n",
       "<td>\n",
       "70.242064\n",
       "</td>\n",
       "</tr>\n",
       "<tr>\n",
       "<td>\n",
       "3\n",
       "</td>\n",
       "<td>\n",
       "4\n",
       "</td>\n",
       "<td>\n",
       "2015\n",
       "</td>\n",
       "<td>\n",
       "1\n",
       "</td>\n",
       "<td>\n",
       "1\n",
       "</td>\n",
       "<td>\n",
       "3\n",
       "</td>\n",
       "<td>\n",
       "61.42935\n",
       "</td>\n",
       "<td>\n",
       "25.146724\n",
       "</td>\n",
       "<td>\n",
       "47.527457\n",
       "</td>\n",
       "<td>\n",
       "40.016443\n",
       "</td>\n",
       "<td>\n",
       "44.43678\n",
       "</td>\n",
       "<td>\n",
       "42.589462\n",
       "</td>\n",
       "<td>\n",
       "39.748719\n",
       "</td>\n",
       "<td>\n",
       "32.161806\n",
       "</td>\n",
       "<td>\n",
       "39.679851\n",
       "</td>\n",
       "<td>\n",
       "67.106365\n",
       "</td>\n",
       "</tr>\n",
       "<tr>\n",
       "<td>\n",
       "4\n",
       "</td>\n",
       "<td>\n",
       "4\n",
       "</td>\n",
       "<td>\n",
       "2015\n",
       "</td>\n",
       "<td>\n",
       "1\n",
       "</td>\n",
       "<td>\n",
       "1\n",
       "</td>\n",
       "<td>\n",
       "4\n",
       "</td>\n",
       "<td>\n",
       "53.817728\n",
       "</td>\n",
       "<td>\n",
       "43.019469\n",
       "</td>\n",
       "<td>\n",
       "47.594527\n",
       "</td>\n",
       "<td>\n",
       "36.587882\n",
       "</td>\n",
       "<td>\n",
       "38.527623\n",
       "</td>\n",
       "<td>\n",
       "41.87402\n",
       "</td>\n",
       "<td>\n",
       "38.93636\n",
       "</td>\n",
       "<td>\n",
       "30.522687\n",
       "</td>\n",
       "<td>\n",
       "37.712233\n",
       "</td>\n",
       "<td>\n",
       "65.185718\n",
       "</td>\n",
       "</tr>\n",
       "<tr>\n",
       "<td>\n",
       "5\n",
       "</td>\n",
       "<td>\n",
       "4\n",
       "</td>\n",
       "<td>\n",
       "2015\n",
       "</td>\n",
       "<td>\n",
       "1\n",
       "</td>\n",
       "<td>\n",
       "1\n",
       "</td>\n",
       "<td>\n",
       "5\n",
       "</td>\n",
       "<td>\n",
       "56.936825\n",
       "</td>\n",
       "<td>\n",
       "29.362204\n",
       "</td>\n",
       "<td>\n",
       "38.605467\n",
       "</td>\n",
       "<td>\n",
       "26.711364\n",
       "</td>\n",
       "<td>\n",
       "36.3755\n",
       "</td>\n",
       "<td>\n",
       "42.248471\n",
       "</td>\n",
       "<td>\n",
       "37.424489\n",
       "</td>\n",
       "<td>\n",
       "30.361556\n",
       "</td>\n",
       "<td>\n",
       "38.057995\n",
       "</td>\n",
       "<td>\n",
       "43.592618\n",
       "</td>\n",
       "</tr>\n",
       "</tbody>\n",
       "</table>\n",
       "</div>"
      ],
      "text/plain": [
       "shape: (5, 16)\n",
       "┌─────┬──────┬──────┬───────┬─────┬───────────┬───────────┬───────────┬───────────┐\n",
       "│     ┆ WDAY ┆ YEAR ┆ MONTH ┆ ... ┆ NO2_809   ┆ NO2_827   ┆ NO2_848   ┆ NO2_9     │\n",
       "│ --- ┆ ---  ┆ ---  ┆ ---   ┆     ┆ ---       ┆ ---       ┆ ---       ┆ ---       │\n",
       "│ i64 ┆ i64  ┆ i64  ┆ i64   ┆     ┆ f64       ┆ f64       ┆ f64       ┆ f64       │\n",
       "╞═════╪══════╪══════╪═══════╪═════╪═══════════╪═══════════╪═══════════╪═══════════╡\n",
       "│ 1   ┆ 4    ┆ 2015 ┆ 1     ┆ ... ┆ 37.382295 ┆ 49.283147 ┆ 39.97828  ┆ 62.58942  │\n",
       "│ 2   ┆ 4    ┆ 2015 ┆ 1     ┆ ... ┆ 37.933811 ┆ 47.81783  ┆ 40.339991 ┆ 70.242064 │\n",
       "│ 3   ┆ 4    ┆ 2015 ┆ 1     ┆ ... ┆ 39.748719 ┆ 32.161806 ┆ 39.679851 ┆ 67.106365 │\n",
       "│ 4   ┆ 4    ┆ 2015 ┆ 1     ┆ ... ┆ 38.93636  ┆ 30.522687 ┆ 37.712233 ┆ 65.185718 │\n",
       "│ 5   ┆ 4    ┆ 2015 ┆ 1     ┆ ... ┆ 37.424489 ┆ 30.361556 ┆ 38.057995 ┆ 43.592618 │\n",
       "└─────┴──────┴──────┴───────┴─────┴───────────┴───────────┴───────────┴───────────┘"
      ]
     },
     "execution_count": 8,
     "metadata": {},
     "output_type": "execute_result"
    }
   ],
   "source": [
    "df.head()"
   ]
  },
  {
   "cell_type": "code",
   "execution_count": 9,
   "id": "195bb231",
   "metadata": {},
   "outputs": [],
   "source": [
    "target = ['NO2_9']\n",
    "predictors = ['NO2_464','NO2_827','NO2_665','NO2_7','NO2_11','NO2_163','NO2_809','NO2_504'] # 504"
   ]
  },
  {
   "cell_type": "code",
   "execution_count": 10,
   "id": "be207da7",
   "metadata": {},
   "outputs": [],
   "source": [
    "# only positive values\n",
    "df = df.filter(\n",
    "    (pl.col('NO2_9') > 0) & (pl.col('NO2_464') > 0) & (pl.col('NO2_827') > 0) & (pl.col('NO2_665') > 0) & (pl.col('NO2_7') > 0) & (pl.col('NO2_11') > 0) & (pl.col('NO2_163') > 0) & (pl.col('NO2_809') > 0) & (pl.col('NO2_504') > 0) \n",
    ")"
   ]
  },
  {
   "cell_type": "code",
   "execution_count": 11,
   "id": "2c859e01",
   "metadata": {},
   "outputs": [],
   "source": [
    "df = df.with_columns(\n",
    "    pl.struct([\"YEAR\",\"MONTH\",\"DAY\",\"HOUR\"]).apply(lambda x: datetime.strptime(\"{0} {1} {2} {3}\".format(x['YEAR'],x['MONTH'], x['DAY'],x['HOUR']), \"%Y %m %d %H\")).alias('datetime')\n",
    ")"
   ]
  },
  {
   "cell_type": "code",
   "execution_count": 12,
   "id": "eeb29f15",
   "metadata": {},
   "outputs": [
    {
     "data": {
      "text/html": [
       "<div>\n",
       "<style>\n",
       ".pl-dataframe > thead > tr > th {\n",
       "  text-align: right;\n",
       "}\n",
       "</style>\n",
       "\n",
       "<table border=\"1\" class=\"dataframe pl-dataframe\">\n",
       "<small>shape: (5, 17)</small>\n",
       "<thead>\n",
       "<tr>\n",
       "<th>\n",
       "\n",
       "</th>\n",
       "<th>\n",
       "WDAY\n",
       "</th>\n",
       "<th>\n",
       "YEAR\n",
       "</th>\n",
       "<th>\n",
       "MONTH\n",
       "</th>\n",
       "<th>\n",
       "DAY\n",
       "</th>\n",
       "<th>\n",
       "HOUR\n",
       "</th>\n",
       "<th>\n",
       "NO2_11\n",
       "</th>\n",
       "<th>\n",
       "NO2_163\n",
       "</th>\n",
       "<th>\n",
       "NO2_464\n",
       "</th>\n",
       "<th>\n",
       "NO2_504\n",
       "</th>\n",
       "<th>\n",
       "NO2_665\n",
       "</th>\n",
       "<th>\n",
       "NO2_7\n",
       "</th>\n",
       "<th>\n",
       "NO2_809\n",
       "</th>\n",
       "<th>\n",
       "NO2_827\n",
       "</th>\n",
       "<th>\n",
       "NO2_848\n",
       "</th>\n",
       "<th>\n",
       "NO2_9\n",
       "</th>\n",
       "<th>\n",
       "datetime\n",
       "</th>\n",
       "</tr>\n",
       "<tr>\n",
       "<td>\n",
       "i64\n",
       "</td>\n",
       "<td>\n",
       "i64\n",
       "</td>\n",
       "<td>\n",
       "i64\n",
       "</td>\n",
       "<td>\n",
       "i64\n",
       "</td>\n",
       "<td>\n",
       "i64\n",
       "</td>\n",
       "<td>\n",
       "i64\n",
       "</td>\n",
       "<td>\n",
       "f64\n",
       "</td>\n",
       "<td>\n",
       "f64\n",
       "</td>\n",
       "<td>\n",
       "f64\n",
       "</td>\n",
       "<td>\n",
       "f64\n",
       "</td>\n",
       "<td>\n",
       "f64\n",
       "</td>\n",
       "<td>\n",
       "f64\n",
       "</td>\n",
       "<td>\n",
       "f64\n",
       "</td>\n",
       "<td>\n",
       "f64\n",
       "</td>\n",
       "<td>\n",
       "f64\n",
       "</td>\n",
       "<td>\n",
       "f64\n",
       "</td>\n",
       "<td>\n",
       "datetime[μs]\n",
       "</td>\n",
       "</tr>\n",
       "</thead>\n",
       "<tbody>\n",
       "<tr>\n",
       "<td>\n",
       "1\n",
       "</td>\n",
       "<td>\n",
       "4\n",
       "</td>\n",
       "<td>\n",
       "2015\n",
       "</td>\n",
       "<td>\n",
       "1\n",
       "</td>\n",
       "<td>\n",
       "1\n",
       "</td>\n",
       "<td>\n",
       "1\n",
       "</td>\n",
       "<td>\n",
       "106.553432\n",
       "</td>\n",
       "<td>\n",
       "52.929326\n",
       "</td>\n",
       "<td>\n",
       "51.463153\n",
       "</td>\n",
       "<td>\n",
       "59.14449\n",
       "</td>\n",
       "<td>\n",
       "56.762501\n",
       "</td>\n",
       "<td>\n",
       "41.609032\n",
       "</td>\n",
       "<td>\n",
       "37.382295\n",
       "</td>\n",
       "<td>\n",
       "49.283147\n",
       "</td>\n",
       "<td>\n",
       "39.97828\n",
       "</td>\n",
       "<td>\n",
       "62.58942\n",
       "</td>\n",
       "<td>\n",
       "2015-01-01 01:00:00\n",
       "</td>\n",
       "</tr>\n",
       "<tr>\n",
       "<td>\n",
       "2\n",
       "</td>\n",
       "<td>\n",
       "4\n",
       "</td>\n",
       "<td>\n",
       "2015\n",
       "</td>\n",
       "<td>\n",
       "1\n",
       "</td>\n",
       "<td>\n",
       "1\n",
       "</td>\n",
       "<td>\n",
       "2\n",
       "</td>\n",
       "<td>\n",
       "78.5703\n",
       "</td>\n",
       "<td>\n",
       "29.593088\n",
       "</td>\n",
       "<td>\n",
       "56.232895\n",
       "</td>\n",
       "<td>\n",
       "53.827484\n",
       "</td>\n",
       "<td>\n",
       "43.273618\n",
       "</td>\n",
       "<td>\n",
       "42.059002\n",
       "</td>\n",
       "<td>\n",
       "37.933811\n",
       "</td>\n",
       "<td>\n",
       "47.81783\n",
       "</td>\n",
       "<td>\n",
       "40.339991\n",
       "</td>\n",
       "<td>\n",
       "70.242064\n",
       "</td>\n",
       "<td>\n",
       "2015-01-01 02:00:00\n",
       "</td>\n",
       "</tr>\n",
       "<tr>\n",
       "<td>\n",
       "3\n",
       "</td>\n",
       "<td>\n",
       "4\n",
       "</td>\n",
       "<td>\n",
       "2015\n",
       "</td>\n",
       "<td>\n",
       "1\n",
       "</td>\n",
       "<td>\n",
       "1\n",
       "</td>\n",
       "<td>\n",
       "3\n",
       "</td>\n",
       "<td>\n",
       "61.42935\n",
       "</td>\n",
       "<td>\n",
       "25.146724\n",
       "</td>\n",
       "<td>\n",
       "47.527457\n",
       "</td>\n",
       "<td>\n",
       "40.016443\n",
       "</td>\n",
       "<td>\n",
       "44.43678\n",
       "</td>\n",
       "<td>\n",
       "42.589462\n",
       "</td>\n",
       "<td>\n",
       "39.748719\n",
       "</td>\n",
       "<td>\n",
       "32.161806\n",
       "</td>\n",
       "<td>\n",
       "39.679851\n",
       "</td>\n",
       "<td>\n",
       "67.106365\n",
       "</td>\n",
       "<td>\n",
       "2015-01-01 03:00:00\n",
       "</td>\n",
       "</tr>\n",
       "<tr>\n",
       "<td>\n",
       "4\n",
       "</td>\n",
       "<td>\n",
       "4\n",
       "</td>\n",
       "<td>\n",
       "2015\n",
       "</td>\n",
       "<td>\n",
       "1\n",
       "</td>\n",
       "<td>\n",
       "1\n",
       "</td>\n",
       "<td>\n",
       "4\n",
       "</td>\n",
       "<td>\n",
       "53.817728\n",
       "</td>\n",
       "<td>\n",
       "43.019469\n",
       "</td>\n",
       "<td>\n",
       "47.594527\n",
       "</td>\n",
       "<td>\n",
       "36.587882\n",
       "</td>\n",
       "<td>\n",
       "38.527623\n",
       "</td>\n",
       "<td>\n",
       "41.87402\n",
       "</td>\n",
       "<td>\n",
       "38.93636\n",
       "</td>\n",
       "<td>\n",
       "30.522687\n",
       "</td>\n",
       "<td>\n",
       "37.712233\n",
       "</td>\n",
       "<td>\n",
       "65.185718\n",
       "</td>\n",
       "<td>\n",
       "2015-01-01 04:00:00\n",
       "</td>\n",
       "</tr>\n",
       "<tr>\n",
       "<td>\n",
       "5\n",
       "</td>\n",
       "<td>\n",
       "4\n",
       "</td>\n",
       "<td>\n",
       "2015\n",
       "</td>\n",
       "<td>\n",
       "1\n",
       "</td>\n",
       "<td>\n",
       "1\n",
       "</td>\n",
       "<td>\n",
       "5\n",
       "</td>\n",
       "<td>\n",
       "56.936825\n",
       "</td>\n",
       "<td>\n",
       "29.362204\n",
       "</td>\n",
       "<td>\n",
       "38.605467\n",
       "</td>\n",
       "<td>\n",
       "26.711364\n",
       "</td>\n",
       "<td>\n",
       "36.3755\n",
       "</td>\n",
       "<td>\n",
       "42.248471\n",
       "</td>\n",
       "<td>\n",
       "37.424489\n",
       "</td>\n",
       "<td>\n",
       "30.361556\n",
       "</td>\n",
       "<td>\n",
       "38.057995\n",
       "</td>\n",
       "<td>\n",
       "43.592618\n",
       "</td>\n",
       "<td>\n",
       "2015-01-01 05:00:00\n",
       "</td>\n",
       "</tr>\n",
       "</tbody>\n",
       "</table>\n",
       "</div>"
      ],
      "text/plain": [
       "shape: (5, 17)\n",
       "┌─────┬──────┬──────┬───────┬─────┬───────────┬───────────┬───────────┬─────────────────────┐\n",
       "│     ┆ WDAY ┆ YEAR ┆ MONTH ┆ ... ┆ NO2_827   ┆ NO2_848   ┆ NO2_9     ┆ datetime            │\n",
       "│ --- ┆ ---  ┆ ---  ┆ ---   ┆     ┆ ---       ┆ ---       ┆ ---       ┆ ---                 │\n",
       "│ i64 ┆ i64  ┆ i64  ┆ i64   ┆     ┆ f64       ┆ f64       ┆ f64       ┆ datetime[μs]        │\n",
       "╞═════╪══════╪══════╪═══════╪═════╪═══════════╪═══════════╪═══════════╪═════════════════════╡\n",
       "│ 1   ┆ 4    ┆ 2015 ┆ 1     ┆ ... ┆ 49.283147 ┆ 39.97828  ┆ 62.58942  ┆ 2015-01-01 01:00:00 │\n",
       "│ 2   ┆ 4    ┆ 2015 ┆ 1     ┆ ... ┆ 47.81783  ┆ 40.339991 ┆ 70.242064 ┆ 2015-01-01 02:00:00 │\n",
       "│ 3   ┆ 4    ┆ 2015 ┆ 1     ┆ ... ┆ 32.161806 ┆ 39.679851 ┆ 67.106365 ┆ 2015-01-01 03:00:00 │\n",
       "│ 4   ┆ 4    ┆ 2015 ┆ 1     ┆ ... ┆ 30.522687 ┆ 37.712233 ┆ 65.185718 ┆ 2015-01-01 04:00:00 │\n",
       "│ 5   ┆ 4    ┆ 2015 ┆ 1     ┆ ... ┆ 30.361556 ┆ 38.057995 ┆ 43.592618 ┆ 2015-01-01 05:00:00 │\n",
       "└─────┴──────┴──────┴───────┴─────┴───────────┴───────────┴───────────┴─────────────────────┘"
      ]
     },
     "execution_count": 12,
     "metadata": {},
     "output_type": "execute_result"
    }
   ],
   "source": [
    "df.head()"
   ]
  },
  {
   "cell_type": "code",
   "execution_count": 13,
   "id": "17027414",
   "metadata": {},
   "outputs": [],
   "source": [
    "# Training/Test period 2017-2018\n",
    "train_test = df.filter(\n",
    "    pl.col(\"datetime\") >= datetime(2017, 1, 1),\n",
    ")"
   ]
  },
  {
   "cell_type": "code",
   "execution_count": 14,
   "id": "b93a6aad",
   "metadata": {},
   "outputs": [],
   "source": [
    "#train_test"
   ]
  },
  {
   "cell_type": "code",
   "execution_count": 15,
   "id": "a3d7418d",
   "metadata": {},
   "outputs": [],
   "source": [
    "X_train, X_test, y_train, y_test = train_test_split(train_test[predictors], train_test[target], test_size=0.2, random_state=42)"
   ]
  },
  {
   "cell_type": "markdown",
   "id": "5b6969b5",
   "metadata": {},
   "source": [
    "# Train/Test"
   ]
  },
  {
   "cell_type": "code",
   "execution_count": 16,
   "id": "b976e81b",
   "metadata": {},
   "outputs": [],
   "source": [
    "## model\n",
    "# Number of variables to possibly split at in each node: rounded down square root of the number variables. \n",
    "min_samples_split= np.floor(np.sqrt(len(predictors))).astype(np.int64)\n",
    "\n",
    "# Minimal node size. Default 1 for classification, 5 for regression, 3 for survival,\n",
    "min_samples_leaf=5"
   ]
  },
  {
   "cell_type": "code",
   "execution_count": 17,
   "id": "933c0020",
   "metadata": {},
   "outputs": [],
   "source": [
    "rf_reg = RandomForestRegressor(n_estimators = 500, \n",
    "                               min_samples_split= min_samples_split,\n",
    "                               min_samples_leaf=min_samples_leaf, \n",
    "                               #max_depth=4,\n",
    "                               #random_state=0,\n",
    "                               n_jobs=10) "
   ]
  },
  {
   "cell_type": "code",
   "execution_count": 18,
   "id": "39c47c24",
   "metadata": {},
   "outputs": [],
   "source": [
    "rf_reg, train_oob_error = lu_fit(rf_reg, X_train.to_numpy(), np.ravel(y_train.to_numpy()))"
   ]
  },
  {
   "cell_type": "code",
   "execution_count": 19,
   "id": "e038c096",
   "metadata": {},
   "outputs": [],
   "source": [
    "pred_test = lu_pred_prime(rf_reg,train_oob_error,X_test.to_numpy(),y_test.to_numpy(),0.05)"
   ]
  },
  {
   "cell_type": "code",
   "execution_count": 20,
   "id": "d8290ae7",
   "metadata": {},
   "outputs": [
    {
     "data": {
      "text/html": [
       "<div>\n",
       "<style>\n",
       ".pl-dataframe > thead > tr > th {\n",
       "  text-align: right;\n",
       "}\n",
       "</style>\n",
       "\n",
       "<table border=\"1\" class=\"dataframe pl-dataframe\">\n",
       "<small>shape: (5, 6)</small>\n",
       "<thead>\n",
       "<tr>\n",
       "<th>\n",
       "id\n",
       "</th>\n",
       "<th>\n",
       "pred\n",
       "</th>\n",
       "<th>\n",
       "obs\n",
       "</th>\n",
       "<th>\n",
       "N0.025\n",
       "</th>\n",
       "<th>\n",
       "N0.975\n",
       "</th>\n",
       "<th>\n",
       "p-value\n",
       "</th>\n",
       "</tr>\n",
       "<tr>\n",
       "<td>\n",
       "i32\n",
       "</td>\n",
       "<td>\n",
       "f64\n",
       "</td>\n",
       "<td>\n",
       "f64\n",
       "</td>\n",
       "<td>\n",
       "f64\n",
       "</td>\n",
       "<td>\n",
       "f64\n",
       "</td>\n",
       "<td>\n",
       "f64\n",
       "</td>\n",
       "</tr>\n",
       "</thead>\n",
       "<tbody>\n",
       "<tr>\n",
       "<td>\n",
       "0\n",
       "</td>\n",
       "<td>\n",
       "23.698917\n",
       "</td>\n",
       "<td>\n",
       "26.285873\n",
       "</td>\n",
       "<td>\n",
       "14.342971\n",
       "</td>\n",
       "<td>\n",
       "31.253303\n",
       "</td>\n",
       "<td>\n",
       "0.710235\n",
       "</td>\n",
       "</tr>\n",
       "<tr>\n",
       "<td>\n",
       "1\n",
       "</td>\n",
       "<td>\n",
       "28.107106\n",
       "</td>\n",
       "<td>\n",
       "43.521019\n",
       "</td>\n",
       "<td>\n",
       "15.014573\n",
       "</td>\n",
       "<td>\n",
       "38.541071\n",
       "</td>\n",
       "<td>\n",
       "0.997506\n",
       "</td>\n",
       "</tr>\n",
       "<tr>\n",
       "<td>\n",
       "2\n",
       "</td>\n",
       "<td>\n",
       "24.673393\n",
       "</td>\n",
       "<td>\n",
       "22.127113\n",
       "</td>\n",
       "<td>\n",
       "11.987846\n",
       "</td>\n",
       "<td>\n",
       "34.380875\n",
       "</td>\n",
       "<td>\n",
       "0.264885\n",
       "</td>\n",
       "</tr>\n",
       "<tr>\n",
       "<td>\n",
       "3\n",
       "</td>\n",
       "<td>\n",
       "13.940514\n",
       "</td>\n",
       "<td>\n",
       "17.517254\n",
       "</td>\n",
       "<td>\n",
       "8.473051\n",
       "</td>\n",
       "<td>\n",
       "19.529271\n",
       "</td>\n",
       "<td>\n",
       "0.915975\n",
       "</td>\n",
       "</tr>\n",
       "<tr>\n",
       "<td>\n",
       "4\n",
       "</td>\n",
       "<td>\n",
       "3.860591\n",
       "</td>\n",
       "<td>\n",
       "4.016871\n",
       "</td>\n",
       "<td>\n",
       "0.886456\n",
       "</td>\n",
       "<td>\n",
       "5.730783\n",
       "</td>\n",
       "<td>\n",
       "0.469953\n",
       "</td>\n",
       "</tr>\n",
       "</tbody>\n",
       "</table>\n",
       "</div>"
      ],
      "text/plain": [
       "shape: (5, 6)\n",
       "┌─────┬───────────┬───────────┬───────────┬───────────┬──────────┐\n",
       "│ id  ┆ pred      ┆ obs       ┆ N0.025    ┆ N0.975    ┆ p-value  │\n",
       "│ --- ┆ ---       ┆ ---       ┆ ---       ┆ ---       ┆ ---      │\n",
       "│ i32 ┆ f64       ┆ f64       ┆ f64       ┆ f64       ┆ f64      │\n",
       "╞═════╪═══════════╪═══════════╪═══════════╪═══════════╪══════════╡\n",
       "│ 0   ┆ 23.698917 ┆ 26.285873 ┆ 14.342971 ┆ 31.253303 ┆ 0.710235 │\n",
       "│ 1   ┆ 28.107106 ┆ 43.521019 ┆ 15.014573 ┆ 38.541071 ┆ 0.997506 │\n",
       "│ 2   ┆ 24.673393 ┆ 22.127113 ┆ 11.987846 ┆ 34.380875 ┆ 0.264885 │\n",
       "│ 3   ┆ 13.940514 ┆ 17.517254 ┆ 8.473051  ┆ 19.529271 ┆ 0.915975 │\n",
       "│ 4   ┆ 3.860591  ┆ 4.016871  ┆ 0.886456  ┆ 5.730783  ┆ 0.469953 │\n",
       "└─────┴───────────┴───────────┴───────────┴───────────┴──────────┘"
      ]
     },
     "execution_count": 20,
     "metadata": {},
     "output_type": "execute_result"
    }
   ],
   "source": [
    "pred_test.head()"
   ]
  },
  {
   "cell_type": "code",
   "execution_count": 21,
   "id": "e95122bb",
   "metadata": {},
   "outputs": [
    {
     "data": {
      "text/plain": [
       "-0.44583566179712986"
      ]
     },
     "execution_count": 21,
     "metadata": {},
     "output_type": "execute_result"
    }
   ],
   "source": [
    "# bias\n",
    "np.mean((pred_test['obs'].to_numpy()-pred_test['pred'].to_numpy()))"
   ]
  },
  {
   "cell_type": "code",
   "execution_count": 22,
   "id": "95cfa4d0",
   "metadata": {},
   "outputs": [
    {
     "data": {
      "text/plain": [
       "5.699142611166269"
      ]
     },
     "execution_count": 22,
     "metadata": {},
     "output_type": "execute_result"
    }
   ],
   "source": [
    "# MAE\n",
    "np.mean(np.abs(pred_test['obs'].to_numpy()-pred_test['pred'].to_numpy()))"
   ]
  },
  {
   "cell_type": "code",
   "execution_count": 23,
   "id": "3e299ad8",
   "metadata": {},
   "outputs": [
    {
     "data": {
      "text/plain": [
       "0.823082061808588"
      ]
     },
     "execution_count": 23,
     "metadata": {},
     "output_type": "execute_result"
    }
   ],
   "source": [
    "metrics.r2_score(pred_test['obs'].to_numpy(),pred_test['pred'].to_numpy())"
   ]
  },
  {
   "cell_type": "code",
   "execution_count": 24,
   "id": "46f2e678",
   "metadata": {},
   "outputs": [
    {
     "data": {
      "image/png": "[encoded data removed]",
      "text/plain": [
       "<Figure size 360x360 with 1 Axes>"
      ]
     },
     "metadata": {
      "needs_background": "light"
     },
     "output_type": "display_data"
    }
   ],
   "source": [
    "fig, axs = plt.subplots(figsize=(5, 5))\n",
    "\n",
    "axs.scatter(pred_test['obs'], pred_test['pred'], alpha=0.3)\n",
    "axs.plot([0,150], [0,150], \"--\", label=\"Perfect model\")\n",
    "axs.set(xlabel=\"Obsevration\",ylabel=\"prediction\")\n",
    "axs.axhline(y = 0, color = 'r', linestyle = 'dotted')\n",
    "axs.axvline(x=0, color = 'r', linestyle = 'dotted')\n",
    "\n",
    "plt.show()"
   ]
  },
  {
   "cell_type": "code",
   "execution_count": 25,
   "id": "7c38b561",
   "metadata": {},
   "outputs": [],
   "source": [
    "pred_test = pred_test.sort('p-value')\n",
    "\n",
    "U = pl.DataFrame({'U': np.linspace(0.,1.,pred_test.shape[0])})\n",
    "pred_test = pl.concat((pred_test,U),how= 'horizontal')"
   ]
  },
  {
   "cell_type": "code",
   "execution_count": 26,
   "id": "aaa4f33f",
   "metadata": {},
   "outputs": [
    {
     "data": {
      "image/png": "[encoded data removed]",
      "text/plain": [
       "<Figure size 360x360 with 1 Axes>"
      ]
     },
     "metadata": {
      "needs_background": "light"
     },
     "output_type": "display_data"
    }
   ],
   "source": [
    "fig, axs = plt.subplots( figsize=(5, 5))\n",
    "\n",
    "axs.scatter(pred_test['U'], pred_test['p-value'], alpha=0.3)\n",
    "axs.plot([0,1], [0,1], \"--\", label=\"Perfect prediction\")\n",
    "axs.set(xlim=(0,1),ylim=(0,1),xlabel=\"U [0,1]\",ylabel=\"observed p-value\")\n",
    "plt.show()"
   ]
  },
  {
   "cell_type": "markdown",
   "id": "d983d66c",
   "metadata": {},
   "source": [
    "# Validation"
   ]
  },
  {
   "cell_type": "code",
   "execution_count": 27,
   "id": "e8147154",
   "metadata": {},
   "outputs": [],
   "source": [
    "validation = df.filter(\n",
    "    pl.col(\"datetime\") < datetime(2017, 1, 1),\n",
    ")"
   ]
  },
  {
   "cell_type": "code",
   "execution_count": 28,
   "id": "02108a0f",
   "metadata": {},
   "outputs": [],
   "source": [
    "X_validation = validation[predictors]\n",
    "y_validation = validation[target]"
   ]
  },
  {
   "cell_type": "code",
   "execution_count": 29,
   "id": "8058bd2d",
   "metadata": {},
   "outputs": [],
   "source": [
    "tmp_validation = lu_pred_prime(rf_reg,train_oob_error,X_validation.to_numpy(),y_validation.to_numpy(),0.05)"
   ]
  },
  {
   "cell_type": "code",
   "execution_count": 30,
   "id": "d8ddd253",
   "metadata": {},
   "outputs": [
    {
     "data": {
      "text/plain": [
       "2.0303654642406572"
      ]
     },
     "execution_count": 30,
     "metadata": {},
     "output_type": "execute_result"
    }
   ],
   "source": [
    "# bias\n",
    "np.mean((tmp_validation['obs'].to_numpy()-tmp_validation['pred'].to_numpy()))"
   ]
  },
  {
   "cell_type": "code",
   "execution_count": 31,
   "id": "5b1901c1",
   "metadata": {},
   "outputs": [
    {
     "data": {
      "text/plain": [
       "8.625315081911625"
      ]
     },
     "execution_count": 31,
     "metadata": {},
     "output_type": "execute_result"
    }
   ],
   "source": [
    "# MAE\n",
    "np.mean(np.abs(tmp_validation['obs'].to_numpy()-tmp_validation['pred'].to_numpy()))"
   ]
  },
  {
   "cell_type": "code",
   "execution_count": 32,
   "id": "a1f13697",
   "metadata": {},
   "outputs": [
    {
     "data": {
      "text/plain": [
       "0.7698931777896447"
      ]
     },
     "execution_count": 32,
     "metadata": {},
     "output_type": "execute_result"
    }
   ],
   "source": [
    "metrics.r2_score(tmp_validation['obs'].to_numpy(),tmp_validation['pred'].to_numpy())"
   ]
  },
  {
   "cell_type": "code",
   "execution_count": 33,
   "id": "7605c2eb",
   "metadata": {},
   "outputs": [
    {
     "data": {
      "image/png": "[encoded data removed]",
      "text/plain": [
       "<Figure size 360x360 with 1 Axes>"
      ]
     },
     "metadata": {
      "needs_background": "light"
     },
     "output_type": "display_data"
    }
   ],
   "source": [
    "fig, axs = plt.subplots(figsize=(5, 5))\n",
    "\n",
    "axs.scatter(tmp_validation['obs'], tmp_validation['pred'], alpha=0.3)\n",
    "axs.plot([0,150], [0,150], \"--\", label=\"Perfect model\")\n",
    "#axs.set(xlim=(0,30),ylim=(0,30),xlabel=\"Ref\",ylabel=\"prediction\")\n",
    "axs.set(xlabel=\"Observation\",ylabel=\"prediction\")\n",
    "axs.axhline(y = 0, color = 'r', linestyle = 'dotted')\n",
    "axs.axvline(x=0, color = 'r', linestyle = 'dotted')\n",
    "\n",
    "plt.show()"
   ]
  },
  {
   "cell_type": "code",
   "execution_count": 34,
   "id": "ce3c0e12",
   "metadata": {},
   "outputs": [],
   "source": [
    "tmp_validation = tmp_validation.sort('p-value')\n",
    "\n",
    "U = pl.DataFrame({'U': np.linspace(0.,1.,tmp_validation.shape[0])})\n",
    "tmp_validation = pl.concat((tmp_validation,U),how= 'horizontal')"
   ]
  },
  {
   "cell_type": "code",
   "execution_count": 35,
   "id": "410b67d9",
   "metadata": {},
   "outputs": [
    {
     "data": {
      "image/png": "[encoded data removed]",
      "text/plain": [
       "<Figure size 360x360 with 1 Axes>"
      ]
     },
     "metadata": {
      "needs_background": "light"
     },
     "output_type": "display_data"
    }
   ],
   "source": [
    "fig, axs = plt.subplots( figsize=(5, 5))\n",
    "\n",
    "axs.scatter(tmp_validation['U'], tmp_validation['p-value'], alpha=0.3)\n",
    "axs.plot([0,1], [0,1], \"--\", label=\"Perfect prediction\")\n",
    "axs.set(xlim=(0,1),ylim=(0,1),xlabel=\"U [0,1]\",ylabel=\"observed p-value\")\n",
    "plt.show()"
   ]
  },
  {
   "cell_type": "markdown",
   "id": "308dbc75",
   "metadata": {},
   "source": [
    "# Illustration"
   ]
  },
  {
   "cell_type": "code",
   "execution_count": 36,
   "id": "2202b683",
   "metadata": {},
   "outputs": [],
   "source": [
    "# conversion from polars dataframe to pandas dataframe requires pandas and pyarrow\n",
    "# Pandas dataframe is used for plotting illustrations w/ matplotlib \n",
    "import pandas\n",
    "import pyarrow"
   ]
  },
  {
   "cell_type": "code",
   "execution_count": 37,
   "id": "18943c27",
   "metadata": {},
   "outputs": [],
   "source": [
    "# between 4 December 2016 and 8 December 2016\n",
    "illustration = df.filter(\n",
    "    (pl.col(\"datetime\") > datetime(2016, 12, 3)) & (pl.col(\"datetime\") < datetime(2016, 12, 10)),\n",
    ")"
   ]
  },
  {
   "cell_type": "code",
   "execution_count": 38,
   "id": "9ad385c5",
   "metadata": {},
   "outputs": [],
   "source": [
    "X_illustration = illustration[predictors]\n",
    "y_illustration = illustration[target]"
   ]
  },
  {
   "cell_type": "code",
   "execution_count": 39,
   "id": "1118ef8c",
   "metadata": {},
   "outputs": [],
   "source": [
    "tmp_illustration = lu_pred_prime(rf_reg,train_oob_error,X_illustration.to_numpy(),y_illustration.to_numpy(),0.05)"
   ]
  },
  {
   "cell_type": "code",
   "execution_count": 40,
   "id": "30021494",
   "metadata": {},
   "outputs": [],
   "source": [
    "tmp_illustration = pl.concat((tmp_illustration,illustration),how='horizontal').to_pandas()"
   ]
  },
  {
   "cell_type": "code",
   "execution_count": 41,
   "id": "dca2c966",
   "metadata": {},
   "outputs": [],
   "source": [
    "tmp_illustration = tmp_illustration.set_index('datetime')"
   ]
  },
  {
   "cell_type": "code",
   "execution_count": 42,
   "id": "e04b5326",
   "metadata": {
    "scrolled": true
   },
   "outputs": [
    {
     "data": {
      "image/png": "[encoded data removed]",
      "text/plain": [
       "<Figure size 720x360 with 1 Axes>"
      ]
     },
     "metadata": {
      "needs_background": "light"
     },
     "output_type": "display_data"
    }
   ],
   "source": [
    "fig, axs = plt.subplots(figsize=(10, 5))\n",
    "\n",
    "axs.plot(tmp_illustration.index, 'pred', data=tmp_illustration, color='black')\n",
    "axs.scatter(tmp_illustration.index, tmp_illustration['obs'].values,alpha=0.3)\n",
    "axs.fill_between(tmp_illustration.index, tmp_illustration['N0.025'], tmp_illustration['N0.975'], alpha=0.2)\n",
    "\n",
    "plt.show()"
   ]
  },
  {
   "cell_type": "markdown",
   "id": "411fc03b",
   "metadata": {},
   "source": [
    "# Illustration 2"
   ]
  },
  {
   "cell_type": "code",
   "execution_count": 43,
   "id": "3e755b72",
   "metadata": {},
   "outputs": [],
   "source": [
    "illustration = df.filter(\n",
    "    (pl.col(\"datetime\") < datetime(2017, 1, 1)),\n",
    ")"
   ]
  },
  {
   "cell_type": "code",
   "execution_count": 44,
   "id": "7e2e0dda",
   "metadata": {},
   "outputs": [],
   "source": [
    "X_illustration = illustration[predictors]\n",
    "y_illustration = illustration[target]"
   ]
  },
  {
   "cell_type": "code",
   "execution_count": 45,
   "id": "8c91291a",
   "metadata": {},
   "outputs": [],
   "source": [
    "tmp_illustration = lu_pred_prime(rf_reg,train_oob_error,X_illustration.to_numpy(),y_illustration.to_numpy(),0.05)"
   ]
  },
  {
   "cell_type": "code",
   "execution_count": 46,
   "id": "dab58d9e",
   "metadata": {},
   "outputs": [],
   "source": [
    "tmp_illustration = pl.concat((tmp_illustration,illustration),how='horizontal').to_pandas()"
   ]
  },
  {
   "cell_type": "code",
   "execution_count": 47,
   "id": "191675cc",
   "metadata": {},
   "outputs": [],
   "source": [
    "#tmp_illustration[tmp_illustration['obs']>200] #7131,7132\n",
    "id_il = 7131\n",
    "tmp_illustration = tmp_illustration.loc[id_il-6*24:id_il+6*24,:]"
   ]
  },
  {
   "cell_type": "code",
   "execution_count": 48,
   "id": "0f27c98a",
   "metadata": {},
   "outputs": [],
   "source": [
    "tmp_illustration = tmp_illustration.set_index('datetime')"
   ]
  },
  {
   "cell_type": "code",
   "execution_count": 49,
   "id": "b493f8ee",
   "metadata": {
    "scrolled": true
   },
   "outputs": [
    {
     "data": {
      "image/png": "[encoded data removed]",
      "text/plain": [
       "<Figure size 720x360 with 1 Axes>"
      ]
     },
     "metadata": {
      "needs_background": "light"
     },
     "output_type": "display_data"
    }
   ],
   "source": [
    "fig, axs = plt.subplots(figsize=(10, 5))\n",
    "\n",
    "axs.plot(tmp_illustration.index, 'pred', data=tmp_illustration, color='black')\n",
    "axs.scatter(tmp_illustration.index, tmp_illustration['obs'].values,alpha=0.3)\n",
    "axs.fill_between(tmp_illustration.index, tmp_illustration['N0.025'], tmp_illustration['N0.975'], alpha=0.2)\n",
    "plt.show()"
   ]
  },
  {
   "cell_type": "code",
   "execution_count": null,
   "id": "c430c9a0",
   "metadata": {},
   "outputs": [],
   "source": []
  }
 ],
 "metadata": {
  "kernelspec": {
   "display_name": "Python 3 (ipykernel)",
   "language": "python",
   "name": "python3"
  },
  "language_info": {
   "codemirror_mode": {
    "name": "ipython",
    "version": 3
   },
   "file_extension": ".py",
   "mimetype": "text/x-python",
   "name": "python",
   "nbconvert_exporter": "python",
   "pygments_lexer": "ipython3",
   "version": "3.8.10"
  }
 },
 "nbformat": 4,
 "nbformat_minor": 5
}
