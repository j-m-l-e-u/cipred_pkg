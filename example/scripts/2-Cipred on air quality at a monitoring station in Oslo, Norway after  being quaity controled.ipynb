{
 "cells": [
  {
   "cell_type": "code",
   "execution_count": 1,
   "id": "0ffce37f",
   "metadata": {},
   "outputs": [],
   "source": [
    "import os\n",
    "\n",
    "import polars as pl\n",
    "import numpy as np\n",
    "\n",
    "from datetime import datetime\n",
    "from sklearn.model_selection import train_test_split\n",
    "\n",
    "from sklearn.ensemble import RandomForestRegressor\n",
    "\n",
    "from cipred.lu2019 import lu_fit, lu_pred_prime\n",
    "from sklearn import metrics\n",
    "\n",
    "import matplotlib.pyplot as plt"
   ]
  },
  {
   "cell_type": "code",
   "execution_count": 2,
   "id": "f75181a8",
   "metadata": {},
   "outputs": [],
   "source": [
    "import cipred"
   ]
  },
  {
   "cell_type": "code",
   "execution_count": 3,
   "id": "c08127ce",
   "metadata": {},
   "outputs": [
    {
     "data": {
      "text/plain": [
       "'0.2-b'"
      ]
     },
     "execution_count": 3,
     "metadata": {},
     "output_type": "execute_result"
    }
   ],
   "source": [
    "cipred.__version__"
   ]
  },
  {
   "cell_type": "markdown",
   "id": "1fc128ca",
   "metadata": {},
   "source": [
    "# Data"
   ]
  },
  {
   "cell_type": "markdown",
   "id": "a4171e63",
   "metadata": {},
   "source": [
    "Dataset providing hourly $NO_2$ measured by reference air quality stations from 2015 to 2022 in Oslo, Norway.\n",
    "\n",
    "These datasets are embedded in this example. \n",
    "\n",
    "You can access these historical data at https://luftkvalitet.nilu.no/en/historical.\n",
    "\n",
    "They have been quality controled by experts. Non-valid data have been removed. \n",
    "\n",
    "<u> As said on this website </u>: \"Data for the current year are preliminary. Data for each calendar year must be quality assured by 1st July of the following year. Until then, there may be changes in the data due to quality control measures.\""
   ]
  },
  {
   "cell_type": "code",
   "execution_count": 4,
   "id": "bb925ea3",
   "metadata": {},
   "outputs": [],
   "source": [
    "parent_dir = os.path.abspath(os.path.join(os.path.abspath(os.getcwd()), os.pardir))\n",
    "data_dir = os.path.join(parent_dir,\"data\")"
   ]
  },
  {
   "cell_type": "code",
   "execution_count": 5,
   "id": "69793f98",
   "metadata": {},
   "outputs": [],
   "source": [
    "# read data"
   ]
  },
  {
   "cell_type": "code",
   "execution_count": 6,
   "id": "0f1039c4",
   "metadata": {},
   "outputs": [],
   "source": [
    "a = pl.read_csv(os.path.join(data_dir,'2015-2016.csv'),skip_rows=3)\n",
    "b = pl.read_csv(os.path.join(data_dir,'2017-2018.csv'),skip_rows=3)\n",
    "c = pl.read_csv(os.path.join(data_dir,'2019-2020.csv'),skip_rows=3)\n",
    "d = pl.read_csv(os.path.join(data_dir,'2021-2022.csv'),skip_rows=3)"
   ]
  },
  {
   "cell_type": "code",
   "execution_count": 7,
   "id": "ff975502",
   "metadata": {},
   "outputs": [],
   "source": [
    "a.columns = b.columns = ['datetime',\n",
    "              'alnabru', 'alnabru%',\n",
    "              'bygdøyAlle', 'bygdøyAlle%', \n",
    "              'hjortnes','hjortnes%', \n",
    "              'kirkeveien', 'kirkeveien%',\n",
    "              'manglerud', 'manglerud%',\n",
    "              'akersykehus', 'akersykehus%',\n",
    "              'smestad', 'smestad%', \n",
    "              'åkebergveien','åkebergveien%']\n",
    "a = a.drop(columns=['alnabru%','bygdøyAlle%','hjortnes%','kirkeveien%','manglerud%','akersykehus%','smestad','smestad%','åkebergveien','åkebergveien%'])\n",
    "b = b.drop(columns=['alnabru%','bygdøyAlle%','hjortnes%','kirkeveien%','manglerud%','akersykehus%','smestad','smestad%','åkebergveien','åkebergveien%'])\n",
    "c.columns = ['datetime',\n",
    "              'alnabru', 'alnabru%',\n",
    "              'bygdøyAlle', 'bygdøyAlle%', \n",
    "              'hjortnes','hjortnes%', \n",
    "              'kirkeveien', 'kirkeveien%',\n",
    "              'manglerud', 'manglerud%',\n",
    "              'akersykehus', 'akersykehus%',\n",
    "              'åkebergveien','åkebergveien%']\n",
    "c = c.drop(columns=['alnabru%','bygdøyAlle%','hjortnes%','kirkeveien%','manglerud%','akersykehus%','åkebergveien','åkebergveien%'])\n",
    "d.columns = ['datetime',\n",
    "              'alnabru', 'alnabru%',\n",
    "              'bygdøyAlle', 'bygdøyAlle%', \n",
    "              'hjortnes','hjortnes%', \n",
    "              'kirkeveien', 'kirkeveien%',\n",
    "              'manglerud', 'manglerud%',\n",
    "              'akersykehus', 'akersykehus%']\n",
    "\n",
    "d = d.drop(columns=['alnabru%','bygdøyAlle%','hjortnes%','kirkeveien%','manglerud%','akersykehus%'])"
   ]
  },
  {
   "cell_type": "code",
   "execution_count": 8,
   "id": "15715f5a",
   "metadata": {},
   "outputs": [],
   "source": [
    "df = pl.concat((a,b,c,d),how= 'vertical')"
   ]
  },
  {
   "cell_type": "code",
   "execution_count": 9,
   "id": "da7c634d",
   "metadata": {},
   "outputs": [],
   "source": [
    "df = df.drop_nulls()"
   ]
  },
  {
   "cell_type": "code",
   "execution_count": 10,
   "id": "9d6bb9a4",
   "metadata": {},
   "outputs": [],
   "source": [
    "# df"
   ]
  },
  {
   "cell_type": "code",
   "execution_count": 11,
   "id": "7f820159",
   "metadata": {},
   "outputs": [],
   "source": [
    "# # only positive values\n",
    "df = df.filter(\n",
    "    (pl.col('alnabru') > 0) & (pl.col('bygdøyAlle') > 0) & (pl.col('hjortnes') > 0) & (pl.col('kirkeveien') > 0) & (pl.col('manglerud') > 0) & (pl.col('akersykehus') > 0) \n",
    ")"
   ]
  },
  {
   "cell_type": "code",
   "execution_count": 12,
   "id": "195bb231",
   "metadata": {},
   "outputs": [],
   "source": [
    "target = ['kirkeveien']\n",
    "predictors = ['bygdøyAlle','hjortnes','alnabru','manglerud','akersykehus'] # 504"
   ]
  },
  {
   "cell_type": "code",
   "execution_count": null,
   "id": "be6ded70",
   "metadata": {},
   "outputs": [],
   "source": [
    "df = df.with_columns(pl.col(\"datetime\").str.strptime(pl.Datetime, format=\"%d.%m.%Y %H:%M\"))"
   ]
  },
  {
   "cell_type": "code",
   "execution_count": 14,
   "id": "17027414",
   "metadata": {},
   "outputs": [],
   "source": [
    "# # Training/Test period 2015-2021\n",
    "train_test = df.filter(\n",
    "    pl.col(\"datetime\") < datetime(2022, 1, 1),\n",
    ")"
   ]
  },
  {
   "cell_type": "code",
   "execution_count": 15,
   "id": "a3d7418d",
   "metadata": {},
   "outputs": [],
   "source": [
    "X_train, X_test, y_train, y_test = train_test_split(train_test[predictors], train_test[target], test_size=0.2, random_state=42)"
   ]
  },
  {
   "cell_type": "markdown",
   "id": "5b6969b5",
   "metadata": {},
   "source": [
    "# Train/Test"
   ]
  },
  {
   "cell_type": "code",
   "execution_count": 16,
   "id": "b976e81b",
   "metadata": {},
   "outputs": [],
   "source": [
    "## model\n",
    "# Number of variables to possibly split at in each node: rounded down square root of the number variables. \n",
    "min_samples_split= np.floor(np.sqrt(len(predictors))).astype(np.int64)\n",
    "\n",
    "# Minimal node size. Default 1 for classification, 5 for regression, 3 for survival,\n",
    "min_samples_leaf=5"
   ]
  },
  {
   "cell_type": "code",
   "execution_count": 17,
   "id": "933c0020",
   "metadata": {},
   "outputs": [],
   "source": [
    "rf_reg = RandomForestRegressor(n_estimators = 500, \n",
    "                               min_samples_split= min_samples_split,\n",
    "                               min_samples_leaf=min_samples_leaf, \n",
    "                               #max_depth=4,\n",
    "                               #random_state=0,\n",
    "                               n_jobs=10) "
   ]
  },
  {
   "cell_type": "code",
   "execution_count": 18,
   "id": "fd20f1c8",
   "metadata": {},
   "outputs": [
    {
     "data": {
      "text/html": [
       "<style>#sk-container-id-1 {color: black;background-color: white;}#sk-container-id-1 pre{padding: 0;}#sk-container-id-1 div.sk-toggleable {background-color: white;}#sk-container-id-1 label.sk-toggleable__label {cursor: pointer;display: block;width: 100%;margin-bottom: 0;padding: 0.3em;box-sizing: border-box;text-align: center;}#sk-container-id-1 label.sk-toggleable__label-arrow:before {content: \"▸\";float: left;margin-right: 0.25em;color: #696969;}#sk-container-id-1 label.sk-toggleable__label-arrow:hover:before {color: black;}#sk-container-id-1 div.sk-estimator:hover label.sk-toggleable__label-arrow:before {color: black;}#sk-container-id-1 div.sk-toggleable__content {max-height: 0;max-width: 0;overflow: hidden;text-align: left;background-color: #f0f8ff;}#sk-container-id-1 div.sk-toggleable__content pre {margin: 0.2em;color: black;border-radius: 0.25em;background-color: #f0f8ff;}#sk-container-id-1 input.sk-toggleable__control:checked~div.sk-toggleable__content {max-height: 200px;max-width: 100%;overflow: auto;}#sk-container-id-1 input.sk-toggleable__control:checked~label.sk-toggleable__label-arrow:before {content: \"▾\";}#sk-container-id-1 div.sk-estimator input.sk-toggleable__control:checked~label.sk-toggleable__label {background-color: #d4ebff;}#sk-container-id-1 div.sk-label input.sk-toggleable__control:checked~label.sk-toggleable__label {background-color: #d4ebff;}#sk-container-id-1 input.sk-hidden--visually {border: 0;clip: rect(1px 1px 1px 1px);clip: rect(1px, 1px, 1px, 1px);height: 1px;margin: -1px;overflow: hidden;padding: 0;position: absolute;width: 1px;}#sk-container-id-1 div.sk-estimator {font-family: monospace;background-color: #f0f8ff;border: 1px dotted black;border-radius: 0.25em;box-sizing: border-box;margin-bottom: 0.5em;}#sk-container-id-1 div.sk-estimator:hover {background-color: #d4ebff;}#sk-container-id-1 div.sk-parallel-item::after {content: \"\";width: 100%;border-bottom: 1px solid gray;flex-grow: 1;}#sk-container-id-1 div.sk-label:hover label.sk-toggleable__label {background-color: #d4ebff;}#sk-container-id-1 div.sk-serial::before {content: \"\";position: absolute;border-left: 1px solid gray;box-sizing: border-box;top: 0;bottom: 0;left: 50%;z-index: 0;}#sk-container-id-1 div.sk-serial {display: flex;flex-direction: column;align-items: center;background-color: white;padding-right: 0.2em;padding-left: 0.2em;position: relative;}#sk-container-id-1 div.sk-item {position: relative;z-index: 1;}#sk-container-id-1 div.sk-parallel {display: flex;align-items: stretch;justify-content: center;background-color: white;position: relative;}#sk-container-id-1 div.sk-item::before, #sk-container-id-1 div.sk-parallel-item::before {content: \"\";position: absolute;border-left: 1px solid gray;box-sizing: border-box;top: 0;bottom: 0;left: 50%;z-index: -1;}#sk-container-id-1 div.sk-parallel-item {display: flex;flex-direction: column;z-index: 1;position: relative;background-color: white;}#sk-container-id-1 div.sk-parallel-item:first-child::after {align-self: flex-end;width: 50%;}#sk-container-id-1 div.sk-parallel-item:last-child::after {align-self: flex-start;width: 50%;}#sk-container-id-1 div.sk-parallel-item:only-child::after {width: 0;}#sk-container-id-1 div.sk-dashed-wrapped {border: 1px dashed gray;margin: 0 0.4em 0.5em 0.4em;box-sizing: border-box;padding-bottom: 0.4em;background-color: white;}#sk-container-id-1 div.sk-label label {font-family: monospace;font-weight: bold;display: inline-block;line-height: 1.2em;}#sk-container-id-1 div.sk-label-container {text-align: center;}#sk-container-id-1 div.sk-container {/* jupyter's `normalize.less` sets `[hidden] { display: none; }` but bootstrap.min.css set `[hidden] { display: none !important; }` so we also need the `!important` here to be able to override the default hidden behavior on the sphinx rendered scikit-learn.org. See: https://github.com/scikit-learn/scikit-learn/issues/21755 */display: inline-block !important;position: relative;}#sk-container-id-1 div.sk-text-repr-fallback {display: none;}</style><div id=\"sk-container-id-1\" class=\"sk-top-container\"><div class=\"sk-text-repr-fallback\"><pre>RandomForestRegressor(min_samples_leaf=5, n_estimators=500, n_jobs=10)</pre><b>In a Jupyter environment, please rerun this cell to show the HTML representation or trust the notebook. <br />On GitHub, the HTML representation is unable to render, please try loading this page with nbviewer.org.</b></div><div class=\"sk-container\" hidden><div class=\"sk-item\"><div class=\"sk-estimator sk-toggleable\"><input class=\"sk-toggleable__control sk-hidden--visually\" id=\"sk-estimator-id-1\" type=\"checkbox\" checked><label for=\"sk-estimator-id-1\" class=\"sk-toggleable__label sk-toggleable__label-arrow\">RandomForestRegressor</label><div class=\"sk-toggleable__content\"><pre>RandomForestRegressor(min_samples_leaf=5, n_estimators=500, n_jobs=10)</pre></div></div></div></div></div>"
      ],
      "text/plain": [
       "RandomForestRegressor(min_samples_leaf=5, n_estimators=500, n_jobs=10)"
      ]
     },
     "execution_count": 18,
     "metadata": {},
     "output_type": "execute_result"
    }
   ],
   "source": [
    "rf_reg"
   ]
  },
  {
   "cell_type": "code",
   "execution_count": 19,
   "id": "37d64f5f",
   "metadata": {},
   "outputs": [],
   "source": [
    "## Training \n",
    "rf_reg, train_oob_error = lu_fit(rf_reg, X_train.to_numpy(), np.ravel(y_train.to_numpy()))"
   ]
  },
  {
   "cell_type": "code",
   "execution_count": 20,
   "id": "047d44ca",
   "metadata": {},
   "outputs": [],
   "source": [
    "## prediction\n",
    "pred_test = lu_pred_prime(rf_reg,train_oob_error,X_test.to_numpy(),y_test.to_numpy(),0.05)"
   ]
  },
  {
   "cell_type": "code",
   "execution_count": 21,
   "id": "d8290ae7",
   "metadata": {},
   "outputs": [],
   "source": [
    "#pred_test"
   ]
  },
  {
   "cell_type": "code",
   "execution_count": 22,
   "id": "ec76f231",
   "metadata": {},
   "outputs": [
    {
     "data": {
      "text/plain": [
       "0.05682396773585412"
      ]
     },
     "execution_count": 22,
     "metadata": {},
     "output_type": "execute_result"
    }
   ],
   "source": [
    "# bias\n",
    "np.mean(pred_test['obs'].to_numpy()-pred_test['pred'].to_numpy())"
   ]
  },
  {
   "cell_type": "code",
   "execution_count": 23,
   "id": "95cfa4d0",
   "metadata": {},
   "outputs": [
    {
     "data": {
      "text/plain": [
       "5.895028558072534"
      ]
     },
     "execution_count": 23,
     "metadata": {},
     "output_type": "execute_result"
    }
   ],
   "source": [
    "# MAE\n",
    "np.mean(np.abs(pred_test['obs'].to_numpy()-pred_test['pred'].to_numpy()))"
   ]
  },
  {
   "cell_type": "code",
   "execution_count": 24,
   "id": "75f8a7a1",
   "metadata": {},
   "outputs": [
    {
     "data": {
      "text/plain": [
       "34.79422231439614"
      ]
     },
     "execution_count": 24,
     "metadata": {},
     "output_type": "execute_result"
    }
   ],
   "source": [
    "# variance\n",
    "def variance(target, pred):\n",
    "        bias = np.mean(pred-target)\n",
    "        res = np.mean(np.abs(pred - target - bias))**2\n",
    "        return res\n",
    "\n",
    "variance(pred_test['obs'].to_numpy(),pred_test['pred'].to_numpy())"
   ]
  },
  {
   "cell_type": "code",
   "execution_count": 25,
   "id": "3e299ad8",
   "metadata": {},
   "outputs": [
    {
     "data": {
      "text/plain": [
       "0.8363600628650101"
      ]
     },
     "execution_count": 25,
     "metadata": {},
     "output_type": "execute_result"
    }
   ],
   "source": [
    "metrics.r2_score(pred_test['obs'].to_numpy(),pred_test['pred'].to_numpy())"
   ]
  },
  {
   "cell_type": "code",
   "execution_count": 26,
   "id": "46f2e678",
   "metadata": {},
   "outputs": [
    {
     "data": {
      "image/png": "[encoded data removed]",
      "text/plain": [
       "<Figure size 360x360 with 1 Axes>"
      ]
     },
     "metadata": {
      "needs_background": "light"
     },
     "output_type": "display_data"
    }
   ],
   "source": [
    "fig, axs = plt.subplots(figsize=(5, 5))\n",
    "\n",
    "axs.scatter(pred_test['obs'].to_numpy(), pred_test['pred'].to_numpy(), alpha=0.3)\n",
    "axs.plot([0,175], [0,175], \"--\", label=\"Perfect model\")\n",
    "axs.set(xlabel=\"Obsevration\",ylabel=\"prediction\")\n",
    "axs.axhline(y = 0, color = 'r', linestyle = 'dotted')\n",
    "axs.axvline(x=0, color = 'r', linestyle = 'dotted')\n",
    "\n",
    "plt.show()"
   ]
  },
  {
   "cell_type": "code",
   "execution_count": 27,
   "id": "7c38b561",
   "metadata": {},
   "outputs": [],
   "source": [
    "pred_test = pred_test.sort('p-value')\n",
    "\n",
    "U = pl.DataFrame({'U': np.linspace(0.,1.,pred_test.shape[0])})\n",
    "pred_test = pl.concat((pred_test,U),how= 'horizontal')"
   ]
  },
  {
   "cell_type": "code",
   "execution_count": 28,
   "id": "aaa4f33f",
   "metadata": {},
   "outputs": [
    {
     "data": {
      "image/png": "[encoded data removed]",
      "text/plain": [
       "<Figure size 360x360 with 1 Axes>"
      ]
     },
     "metadata": {
      "needs_background": "light"
     },
     "output_type": "display_data"
    }
   ],
   "source": [
    "fig, axs = plt.subplots( figsize=(5, 5))\n",
    "\n",
    "axs.scatter(pred_test['U'].to_numpy(), pred_test['p-value'].to_numpy(), alpha=0.3)\n",
    "axs.plot([0,1], [0,1], \"--\", label=\"Perfect prediction\")\n",
    "axs.set(xlim=(0,1),ylim=(0,1),xlabel=\"U [0,1]\",ylabel=\"observed p-value\")\n",
    "plt.show()"
   ]
  },
  {
   "cell_type": "markdown",
   "id": "d983d66c",
   "metadata": {},
   "source": [
    "# Validation"
   ]
  },
  {
   "cell_type": "code",
   "execution_count": 29,
   "id": "e8147154",
   "metadata": {},
   "outputs": [],
   "source": [
    "validation = df.filter(\n",
    "    pl.col(\"datetime\") >= datetime(2022, 1, 1),\n",
    ")"
   ]
  },
  {
   "cell_type": "code",
   "execution_count": 30,
   "id": "02108a0f",
   "metadata": {},
   "outputs": [],
   "source": [
    "X_validation = validation[predictors]\n",
    "y_validation = validation[target]"
   ]
  },
  {
   "cell_type": "code",
   "execution_count": 31,
   "id": "8058bd2d",
   "metadata": {},
   "outputs": [],
   "source": [
    "tmp_validation = lu_pred_prime(rf_reg,train_oob_error,X_validation.to_numpy(),y_validation.to_numpy(),0.05)"
   ]
  },
  {
   "cell_type": "code",
   "execution_count": 32,
   "id": "6dfa7503",
   "metadata": {},
   "outputs": [
    {
     "data": {
      "text/plain": [
       "-0.06251627296703273"
      ]
     },
     "execution_count": 32,
     "metadata": {},
     "output_type": "execute_result"
    }
   ],
   "source": [
    "# bias\n",
    "np.mean(tmp_validation['obs'].to_numpy()-tmp_validation['pred'].to_numpy())"
   ]
  },
  {
   "cell_type": "code",
   "execution_count": 33,
   "id": "b37adb29",
   "metadata": {},
   "outputs": [
    {
     "data": {
      "text/plain": [
       "4.443614154861971"
      ]
     },
     "execution_count": 33,
     "metadata": {},
     "output_type": "execute_result"
    }
   ],
   "source": [
    "# MAE\n",
    "np.mean(np.abs(tmp_validation['obs'].to_numpy()-tmp_validation['pred'].to_numpy()))"
   ]
  },
  {
   "cell_type": "code",
   "execution_count": 34,
   "id": "e1aafa7c",
   "metadata": {},
   "outputs": [
    {
     "data": {
      "text/plain": [
       "19.669278415551986"
      ]
     },
     "execution_count": 34,
     "metadata": {},
     "output_type": "execute_result"
    }
   ],
   "source": [
    "# variance\n",
    "variance(tmp_validation['obs'].to_numpy(),tmp_validation['pred'].to_numpy())"
   ]
  },
  {
   "cell_type": "code",
   "execution_count": 35,
   "id": "22a88c09",
   "metadata": {},
   "outputs": [
    {
     "data": {
      "text/plain": [
       "0.7958529266297829"
      ]
     },
     "execution_count": 35,
     "metadata": {},
     "output_type": "execute_result"
    }
   ],
   "source": [
    "metrics.r2_score(tmp_validation['obs'].to_numpy(),tmp_validation['pred'].to_numpy())"
   ]
  },
  {
   "cell_type": "code",
   "execution_count": 36,
   "id": "7605c2eb",
   "metadata": {},
   "outputs": [
    {
     "data": {
      "image/png": "[encoded data removed]",
      "text/plain": [
       "<Figure size 360x360 with 1 Axes>"
      ]
     },
     "metadata": {
      "needs_background": "light"
     },
     "output_type": "display_data"
    }
   ],
   "source": [
    "fig, axs = plt.subplots(figsize=(5, 5))\n",
    "\n",
    "axs.scatter(tmp_validation['obs'].to_numpy(), tmp_validation['pred'].to_numpy(), alpha=0.3)\n",
    "axs.plot([0,120], [0,120], \"--\", label=\"Perfect model\")\n",
    "#axs.set(xlim=(0,30),ylim=(0,30),xlabel=\"Ref\",ylabel=\"prediction\")\n",
    "axs.set(xlabel=\"Observation\",ylabel=\"prediction\")\n",
    "axs.axhline(y = 0, color = 'r', linestyle = 'dotted')\n",
    "axs.axvline(x=0, color = 'r', linestyle = 'dotted')\n",
    "\n",
    "plt.show()"
   ]
  },
  {
   "cell_type": "code",
   "execution_count": 37,
   "id": "ce3c0e12",
   "metadata": {},
   "outputs": [],
   "source": [
    "tmp_validation = tmp_validation.sort('p-value')\n",
    "\n",
    "U = pl.DataFrame({'U': np.linspace(0.,1.,tmp_validation.shape[0])})\n",
    "tmp_validation = pl.concat((tmp_validation,U),how= 'horizontal')"
   ]
  },
  {
   "cell_type": "code",
   "execution_count": 38,
   "id": "410b67d9",
   "metadata": {},
   "outputs": [
    {
     "data": {
      "image/png": "[encoded data removed]",
      "text/plain": [
       "<Figure size 360x360 with 1 Axes>"
      ]
     },
     "metadata": {
      "needs_background": "light"
     },
     "output_type": "display_data"
    }
   ],
   "source": [
    "fig, axs = plt.subplots( figsize=(5, 5))\n",
    "\n",
    "axs.scatter(tmp_validation['U'].to_numpy(), tmp_validation['p-value'].to_numpy(), alpha=0.3)\n",
    "axs.plot([0,1], [0,1], \"--\", label=\"Perfect prediction\")\n",
    "axs.set(xlim=(0,1),ylim=(0,1),xlabel=\"U [0,1]\",ylabel=\"observed p-value\")\n",
    "plt.show()"
   ]
  },
  {
   "cell_type": "markdown",
   "id": "308dbc75",
   "metadata": {},
   "source": [
    "# Illustration"
   ]
  },
  {
   "cell_type": "code",
   "execution_count": 39,
   "id": "a53683b8",
   "metadata": {},
   "outputs": [],
   "source": [
    "# conversion from polars dataframe to pandas dataframe requires pandas and pyarrow\n",
    "# Pandas dataframe is used for plotting illustrations w/ matplotlib \n",
    "import pandas\n",
    "import pyarrow"
   ]
  },
  {
   "cell_type": "code",
   "execution_count": 40,
   "id": "aaf4ebd9",
   "metadata": {},
   "outputs": [],
   "source": [
    "e = pl.read_csv(os.path.join(data_dir,'20161203-20161209_original.csv'),skip_rows=3)"
   ]
  },
  {
   "cell_type": "code",
   "execution_count": 41,
   "id": "45d5ac45",
   "metadata": {},
   "outputs": [],
   "source": [
    "e = e.drop(columns=['Til-tid','QA','QC','QA_duplicated_0','QC_duplicated_0','QA_duplicated_1','QC_duplicated_1','QA_duplicated_2','QC_duplicated_2','QA_duplicated_3','QC_duplicated_3','QA_duplicated_4','QC_duplicated_4'])\n",
    "e.columns = ['datetime',\n",
    "              'alnabru', \n",
    "              'bygdøyAlle',\n",
    "              'hjortnes',\n",
    "              'kirkeveien',\n",
    "              'manglerud',\n",
    "              'akersykehus']"
   ]
  },
  {
   "cell_type": "code",
   "execution_count": 42,
   "id": "2bca68a5",
   "metadata": {},
   "outputs": [],
   "source": [
    "e = e.with_columns(pl.col(\"datetime\").str.strptime(pl.Datetime, fmt=\"%d.%m.%Y %H:%M\"))"
   ]
  },
  {
   "cell_type": "code",
   "execution_count": 43,
   "id": "0db90c2e",
   "metadata": {},
   "outputs": [],
   "source": [
    "e = e.drop_nulls()"
   ]
  },
  {
   "cell_type": "code",
   "execution_count": 44,
   "id": "9ad385c5",
   "metadata": {},
   "outputs": [],
   "source": [
    "# between 4 December 2016 and 8 December 2016\n",
    "X_illustration = e[predictors]\n",
    "y_illustration = e[target]"
   ]
  },
  {
   "cell_type": "code",
   "execution_count": 45,
   "id": "1118ef8c",
   "metadata": {},
   "outputs": [],
   "source": [
    "tmp_illustration = lu_pred_prime(rf_reg,train_oob_error,X_illustration.to_numpy(),y_illustration.to_numpy(),0.05)"
   ]
  },
  {
   "cell_type": "code",
   "execution_count": 46,
   "id": "30021494",
   "metadata": {},
   "outputs": [],
   "source": [
    "tmp_illustration = pl.concat((tmp_illustration,e),how='horizontal').to_pandas()\n"
   ]
  },
  {
   "cell_type": "code",
   "execution_count": 47,
   "id": "c69b27a1",
   "metadata": {},
   "outputs": [],
   "source": [
    "tmp_illustration = tmp_illustration.set_index('datetime')"
   ]
  },
  {
   "cell_type": "code",
   "execution_count": 48,
   "id": "e57700e1",
   "metadata": {},
   "outputs": [
    {
     "data": {
      "text/html": [
       "<div>\n",
       "<style scoped>\n",
       "    .dataframe tbody tr th:only-of-type {\n",
       "        vertical-align: middle;\n",
       "    }\n",
       "\n",
       "    .dataframe tbody tr th {\n",
       "        vertical-align: top;\n",
       "    }\n",
       "\n",
       "    .dataframe thead th {\n",
       "        text-align: right;\n",
       "    }\n",
       "</style>\n",
       "<table border=\"1\" class=\"dataframe\">\n",
       "  <thead>\n",
       "    <tr style=\"text-align: right;\">\n",
       "      <th></th>\n",
       "      <th>id</th>\n",
       "      <th>pred</th>\n",
       "      <th>obs</th>\n",
       "      <th>N0.025</th>\n",
       "      <th>N0.975</th>\n",
       "      <th>p-value</th>\n",
       "      <th>alnabru</th>\n",
       "      <th>bygdøyAlle</th>\n",
       "      <th>hjortnes</th>\n",
       "      <th>kirkeveien</th>\n",
       "      <th>manglerud</th>\n",
       "      <th>akersykehus</th>\n",
       "    </tr>\n",
       "    <tr>\n",
       "      <th>datetime</th>\n",
       "      <th></th>\n",
       "      <th></th>\n",
       "      <th></th>\n",
       "      <th></th>\n",
       "      <th></th>\n",
       "      <th></th>\n",
       "      <th></th>\n",
       "      <th></th>\n",
       "      <th></th>\n",
       "      <th></th>\n",
       "      <th></th>\n",
       "      <th></th>\n",
       "    </tr>\n",
       "  </thead>\n",
       "  <tbody>\n",
       "    <tr>\n",
       "      <th>2016-12-03 00:00:00</th>\n",
       "      <td>0</td>\n",
       "      <td>56.187600</td>\n",
       "      <td>54.3</td>\n",
       "      <td>42.992774</td>\n",
       "      <td>69.801539</td>\n",
       "      <td>0.382547</td>\n",
       "      <td>82.5</td>\n",
       "      <td>69.3</td>\n",
       "      <td>75.8</td>\n",
       "      <td>54.3</td>\n",
       "      <td>64.6</td>\n",
       "      <td>57.4</td>\n",
       "    </tr>\n",
       "    <tr>\n",
       "      <th>2016-12-03 01:00:00</th>\n",
       "      <td>1</td>\n",
       "      <td>59.268138</td>\n",
       "      <td>48.1</td>\n",
       "      <td>42.789320</td>\n",
       "      <td>84.419838</td>\n",
       "      <td>0.081081</td>\n",
       "      <td>68.1</td>\n",
       "      <td>83.8</td>\n",
       "      <td>107.7</td>\n",
       "      <td>48.1</td>\n",
       "      <td>39.2</td>\n",
       "      <td>61.8</td>\n",
       "    </tr>\n",
       "    <tr>\n",
       "      <th>2016-12-03 02:00:00</th>\n",
       "      <td>2</td>\n",
       "      <td>56.707303</td>\n",
       "      <td>65.2</td>\n",
       "      <td>42.205282</td>\n",
       "      <td>78.998838</td>\n",
       "      <td>0.873453</td>\n",
       "      <td>68.2</td>\n",
       "      <td>76.7</td>\n",
       "      <td>88.4</td>\n",
       "      <td>65.2</td>\n",
       "      <td>34.2</td>\n",
       "      <td>46.4</td>\n",
       "    </tr>\n",
       "    <tr>\n",
       "      <th>2016-12-03 03:00:00</th>\n",
       "      <td>3</td>\n",
       "      <td>53.385295</td>\n",
       "      <td>59.5</td>\n",
       "      <td>35.293755</td>\n",
       "      <td>71.614762</td>\n",
       "      <td>0.806871</td>\n",
       "      <td>73.3</td>\n",
       "      <td>71.0</td>\n",
       "      <td>90.8</td>\n",
       "      <td>59.5</td>\n",
       "      <td>27.8</td>\n",
       "      <td>52.4</td>\n",
       "    </tr>\n",
       "    <tr>\n",
       "      <th>2016-12-03 04:00:00</th>\n",
       "      <td>4</td>\n",
       "      <td>42.195707</td>\n",
       "      <td>50.5</td>\n",
       "      <td>26.037802</td>\n",
       "      <td>58.653335</td>\n",
       "      <td>0.851538</td>\n",
       "      <td>63.0</td>\n",
       "      <td>62.5</td>\n",
       "      <td>72.8</td>\n",
       "      <td>50.5</td>\n",
       "      <td>43.9</td>\n",
       "      <td>33.3</td>\n",
       "    </tr>\n",
       "    <tr>\n",
       "      <th>...</th>\n",
       "      <td>...</td>\n",
       "      <td>...</td>\n",
       "      <td>...</td>\n",
       "      <td>...</td>\n",
       "      <td>...</td>\n",
       "      <td>...</td>\n",
       "      <td>...</td>\n",
       "      <td>...</td>\n",
       "      <td>...</td>\n",
       "      <td>...</td>\n",
       "      <td>...</td>\n",
       "      <td>...</td>\n",
       "    </tr>\n",
       "    <tr>\n",
       "      <th>2016-12-09 18:00:00</th>\n",
       "      <td>157</td>\n",
       "      <td>88.443284</td>\n",
       "      <td>81.5</td>\n",
       "      <td>74.489026</td>\n",
       "      <td>110.302012</td>\n",
       "      <td>0.123626</td>\n",
       "      <td>152.2</td>\n",
       "      <td>88.0</td>\n",
       "      <td>151.3</td>\n",
       "      <td>81.5</td>\n",
       "      <td>92.3</td>\n",
       "      <td>59.6</td>\n",
       "    </tr>\n",
       "    <tr>\n",
       "      <th>2016-12-09 19:00:00</th>\n",
       "      <td>158</td>\n",
       "      <td>81.725966</td>\n",
       "      <td>69.7</td>\n",
       "      <td>43.914341</td>\n",
       "      <td>111.148143</td>\n",
       "      <td>0.150327</td>\n",
       "      <td>129.7</td>\n",
       "      <td>125.5</td>\n",
       "      <td>114.4</td>\n",
       "      <td>69.7</td>\n",
       "      <td>87.3</td>\n",
       "      <td>69.1</td>\n",
       "    </tr>\n",
       "    <tr>\n",
       "      <th>2016-12-09 20:00:00</th>\n",
       "      <td>159</td>\n",
       "      <td>72.813067</td>\n",
       "      <td>73.0</td>\n",
       "      <td>50.736435</td>\n",
       "      <td>99.589197</td>\n",
       "      <td>0.581189</td>\n",
       "      <td>124.8</td>\n",
       "      <td>88.2</td>\n",
       "      <td>112.2</td>\n",
       "      <td>73.0</td>\n",
       "      <td>103.7</td>\n",
       "      <td>69.3</td>\n",
       "    </tr>\n",
       "    <tr>\n",
       "      <th>2016-12-09 21:00:00</th>\n",
       "      <td>160</td>\n",
       "      <td>77.482596</td>\n",
       "      <td>65.6</td>\n",
       "      <td>58.393741</td>\n",
       "      <td>98.621123</td>\n",
       "      <td>0.098448</td>\n",
       "      <td>111.7</td>\n",
       "      <td>99.1</td>\n",
       "      <td>98.5</td>\n",
       "      <td>65.6</td>\n",
       "      <td>78.2</td>\n",
       "      <td>81.8</td>\n",
       "    </tr>\n",
       "    <tr>\n",
       "      <th>2016-12-09 22:00:00</th>\n",
       "      <td>161</td>\n",
       "      <td>66.318869</td>\n",
       "      <td>64.9</td>\n",
       "      <td>52.493197</td>\n",
       "      <td>84.603237</td>\n",
       "      <td>0.366530</td>\n",
       "      <td>92.3</td>\n",
       "      <td>79.3</td>\n",
       "      <td>87.3</td>\n",
       "      <td>64.9</td>\n",
       "      <td>74.8</td>\n",
       "      <td>70.2</td>\n",
       "    </tr>\n",
       "  </tbody>\n",
       "</table>\n",
       "<p>162 rows × 12 columns</p>\n",
       "</div>"
      ],
      "text/plain": [
       "                      id       pred   obs     N0.025      N0.975   p-value  \\\n",
       "datetime                                                                     \n",
       "2016-12-03 00:00:00    0  56.187600  54.3  42.992774   69.801539  0.382547   \n",
       "2016-12-03 01:00:00    1  59.268138  48.1  42.789320   84.419838  0.081081   \n",
       "2016-12-03 02:00:00    2  56.707303  65.2  42.205282   78.998838  0.873453   \n",
       "2016-12-03 03:00:00    3  53.385295  59.5  35.293755   71.614762  0.806871   \n",
       "2016-12-03 04:00:00    4  42.195707  50.5  26.037802   58.653335  0.851538   \n",
       "...                  ...        ...   ...        ...         ...       ...   \n",
       "2016-12-09 18:00:00  157  88.443284  81.5  74.489026  110.302012  0.123626   \n",
       "2016-12-09 19:00:00  158  81.725966  69.7  43.914341  111.148143  0.150327   \n",
       "2016-12-09 20:00:00  159  72.813067  73.0  50.736435   99.589197  0.581189   \n",
       "2016-12-09 21:00:00  160  77.482596  65.6  58.393741   98.621123  0.098448   \n",
       "2016-12-09 22:00:00  161  66.318869  64.9  52.493197   84.603237  0.366530   \n",
       "\n",
       "                     alnabru  bygdøyAlle  hjortnes  kirkeveien  manglerud  \\\n",
       "datetime                                                                    \n",
       "2016-12-03 00:00:00     82.5        69.3      75.8        54.3       64.6   \n",
       "2016-12-03 01:00:00     68.1        83.8     107.7        48.1       39.2   \n",
       "2016-12-03 02:00:00     68.2        76.7      88.4        65.2       34.2   \n",
       "2016-12-03 03:00:00     73.3        71.0      90.8        59.5       27.8   \n",
       "2016-12-03 04:00:00     63.0        62.5      72.8        50.5       43.9   \n",
       "...                      ...         ...       ...         ...        ...   \n",
       "2016-12-09 18:00:00    152.2        88.0     151.3        81.5       92.3   \n",
       "2016-12-09 19:00:00    129.7       125.5     114.4        69.7       87.3   \n",
       "2016-12-09 20:00:00    124.8        88.2     112.2        73.0      103.7   \n",
       "2016-12-09 21:00:00    111.7        99.1      98.5        65.6       78.2   \n",
       "2016-12-09 22:00:00     92.3        79.3      87.3        64.9       74.8   \n",
       "\n",
       "                     akersykehus  \n",
       "datetime                          \n",
       "2016-12-03 00:00:00         57.4  \n",
       "2016-12-03 01:00:00         61.8  \n",
       "2016-12-03 02:00:00         46.4  \n",
       "2016-12-03 03:00:00         52.4  \n",
       "2016-12-03 04:00:00         33.3  \n",
       "...                          ...  \n",
       "2016-12-09 18:00:00         59.6  \n",
       "2016-12-09 19:00:00         69.1  \n",
       "2016-12-09 20:00:00         69.3  \n",
       "2016-12-09 21:00:00         81.8  \n",
       "2016-12-09 22:00:00         70.2  \n",
       "\n",
       "[162 rows x 12 columns]"
      ]
     },
     "execution_count": 48,
     "metadata": {},
     "output_type": "execute_result"
    }
   ],
   "source": [
    "tmp_illustration"
   ]
  },
  {
   "cell_type": "code",
   "execution_count": 49,
   "id": "e04b5326",
   "metadata": {
    "scrolled": true
   },
   "outputs": [
    {
     "data": {
      "image/png": "[encoded data removed]",
      "text/plain": [
       "<Figure size 720x360 with 1 Axes>"
      ]
     },
     "metadata": {
      "needs_background": "light"
     },
     "output_type": "display_data"
    }
   ],
   "source": [
    "# Non-valid data are seen as missing values. No prediction and uncertainty is thus avalible for these values\n",
    "fig, axs = plt.subplots(figsize=(10, 5))\n",
    "\n",
    "axs.scatter(tmp_illustration.index, tmp_illustration['obs'].values,alpha=0.3)\n",
    "axs.fill_between(tmp_illustration.index, tmp_illustration['N0.025'], tmp_illustration['N0.975'], alpha=0.2)\n",
    "axs.plot(tmp_illustration.index, 'pred', data=tmp_illustration, color='black')\n",
    "plt.show()"
   ]
  },
  {
   "cell_type": "markdown",
   "id": "411fc03b",
   "metadata": {},
   "source": [
    "# Illustration 2"
   ]
  },
  {
   "cell_type": "code",
   "execution_count": 50,
   "id": "a2a5d4b7",
   "metadata": {},
   "outputs": [],
   "source": [
    "e = pl.read_csv(os.path.join(data_dir,'2022_original.csv'),skip_rows=3)"
   ]
  },
  {
   "cell_type": "code",
   "execution_count": 51,
   "id": "7a21a866",
   "metadata": {},
   "outputs": [],
   "source": [
    "e = e.drop(columns=['Til-tid','QA','QC','QA_duplicated_0','QC_duplicated_0','QA_duplicated_1','QC_duplicated_1','QA_duplicated_2','QC_duplicated_2','QA_duplicated_3','QC_duplicated_3','QA_duplicated_4','QC_duplicated_4'])\n",
    "e.columns = ['datetime',\n",
    "              'alnabru', \n",
    "              'bygdøyAlle',\n",
    "              'hjortnes',\n",
    "              'kirkeveien',\n",
    "              'manglerud',\n",
    "              'akersykehus']"
   ]
  },
  {
   "cell_type": "code",
   "execution_count": 52,
   "id": "8382e3c8",
   "metadata": {},
   "outputs": [],
   "source": [
    "e = e.with_columns(pl.col(\"datetime\").str.strptime(pl.Datetime, fmt=\"%d.%m.%Y %H:%M\"))"
   ]
  },
  {
   "cell_type": "code",
   "execution_count": 53,
   "id": "0bba11a4",
   "metadata": {},
   "outputs": [],
   "source": [
    "e = e.drop_nulls()"
   ]
  },
  {
   "cell_type": "code",
   "execution_count": 54,
   "id": "7e2e0dda",
   "metadata": {},
   "outputs": [],
   "source": [
    "X_illustration = e[predictors]\n",
    "y_illustration = e[target]"
   ]
  },
  {
   "cell_type": "code",
   "execution_count": 55,
   "id": "8c91291a",
   "metadata": {},
   "outputs": [],
   "source": [
    "tmp_illustration = lu_pred_prime(rf_reg,train_oob_error,X_illustration.to_numpy(),y_illustration.to_numpy(),0.05)"
   ]
  },
  {
   "cell_type": "code",
   "execution_count": 56,
   "id": "1f9b6aa6",
   "metadata": {},
   "outputs": [],
   "source": [
    "tmp_illustration = pl.concat((tmp_illustration,e),how='horizontal')"
   ]
  },
  {
   "cell_type": "code",
   "execution_count": 57,
   "id": "643c8585",
   "metadata": {},
   "outputs": [
    {
     "data": {
      "text/html": [
       "<div>\n",
       "<style>\n",
       ".pl-dataframe > thead > tr > th {\n",
       "  text-align: right;\n",
       "}\n",
       "</style>\n",
       "\n",
       "<table border=\"1\" class=\"dataframe pl-dataframe\">\n",
       "<small>shape: (2, 13)</small>\n",
       "<thead>\n",
       "<tr>\n",
       "<th>\n",
       "id\n",
       "</th>\n",
       "<th>\n",
       "pred\n",
       "</th>\n",
       "<th>\n",
       "obs\n",
       "</th>\n",
       "<th>\n",
       "N0.025\n",
       "</th>\n",
       "<th>\n",
       "N0.975\n",
       "</th>\n",
       "<th>\n",
       "p-value\n",
       "</th>\n",
       "<th>\n",
       "datetime\n",
       "</th>\n",
       "<th>\n",
       "alnabru\n",
       "</th>\n",
       "<th>\n",
       "bygdøyAlle\n",
       "</th>\n",
       "<th>\n",
       "hjortnes\n",
       "</th>\n",
       "<th>\n",
       "kirkeveien\n",
       "</th>\n",
       "<th>\n",
       "manglerud\n",
       "</th>\n",
       "<th>\n",
       "akersykehus\n",
       "</th>\n",
       "</tr>\n",
       "<tr>\n",
       "<td>\n",
       "i32\n",
       "</td>\n",
       "<td>\n",
       "f64\n",
       "</td>\n",
       "<td>\n",
       "f64\n",
       "</td>\n",
       "<td>\n",
       "f64\n",
       "</td>\n",
       "<td>\n",
       "f64\n",
       "</td>\n",
       "<td>\n",
       "f64\n",
       "</td>\n",
       "<td>\n",
       "datetime[μs]\n",
       "</td>\n",
       "<td>\n",
       "f64\n",
       "</td>\n",
       "<td>\n",
       "f64\n",
       "</td>\n",
       "<td>\n",
       "f64\n",
       "</td>\n",
       "<td>\n",
       "f64\n",
       "</td>\n",
       "<td>\n",
       "f64\n",
       "</td>\n",
       "<td>\n",
       "f64\n",
       "</td>\n",
       "</tr>\n",
       "</thead>\n",
       "<tbody>\n",
       "<tr>\n",
       "<td>\n",
       "788\n",
       "</td>\n",
       "<td>\n",
       "68.168751\n",
       "</td>\n",
       "<td>\n",
       "103.9\n",
       "</td>\n",
       "<td>\n",
       "48.894424\n",
       "</td>\n",
       "<td>\n",
       "88.671264\n",
       "</td>\n",
       "<td>\n",
       "0.998179\n",
       "</td>\n",
       "<td>\n",
       "2022-02-07 16:00:00\n",
       "</td>\n",
       "<td>\n",
       "93.3\n",
       "</td>\n",
       "<td>\n",
       "85.1\n",
       "</td>\n",
       "<td>\n",
       "103.4\n",
       "</td>\n",
       "<td>\n",
       "103.9\n",
       "</td>\n",
       "<td>\n",
       "95.9\n",
       "</td>\n",
       "<td>\n",
       "63.2\n",
       "</td>\n",
       "</tr>\n",
       "<tr>\n",
       "<td>\n",
       "789\n",
       "</td>\n",
       "<td>\n",
       "78.826519\n",
       "</td>\n",
       "<td>\n",
       "105.3\n",
       "</td>\n",
       "<td>\n",
       "56.749887\n",
       "</td>\n",
       "<td>\n",
       "100.364444\n",
       "</td>\n",
       "<td>\n",
       "0.990249\n",
       "</td>\n",
       "<td>\n",
       "2022-02-07 17:00:00\n",
       "</td>\n",
       "<td>\n",
       "123.1\n",
       "</td>\n",
       "<td>\n",
       "85.3\n",
       "</td>\n",
       "<td>\n",
       "114.8\n",
       "</td>\n",
       "<td>\n",
       "105.3\n",
       "</td>\n",
       "<td>\n",
       "67.8\n",
       "</td>\n",
       "<td>\n",
       "63.1\n",
       "</td>\n",
       "</tr>\n",
       "</tbody>\n",
       "</table>\n",
       "</div>"
      ],
      "text/plain": [
       "shape: (2, 13)\n",
       "┌─────┬───────────┬───────┬───────────┬─────┬──────────┬────────────┬───────────┬─────────────┐\n",
       "│ id  ┆ pred      ┆ obs   ┆ N0.025    ┆ ... ┆ hjortnes ┆ kirkeveien ┆ manglerud ┆ akersykehus │\n",
       "│ --- ┆ ---       ┆ ---   ┆ ---       ┆     ┆ ---      ┆ ---        ┆ ---       ┆ ---         │\n",
       "│ i32 ┆ f64       ┆ f64   ┆ f64       ┆     ┆ f64      ┆ f64        ┆ f64       ┆ f64         │\n",
       "╞═════╪═══════════╪═══════╪═══════════╪═════╪══════════╪════════════╪═══════════╪═════════════╡\n",
       "│ 788 ┆ 68.168751 ┆ 103.9 ┆ 48.894424 ┆ ... ┆ 103.4    ┆ 103.9      ┆ 95.9      ┆ 63.2        │\n",
       "│ 789 ┆ 78.826519 ┆ 105.3 ┆ 56.749887 ┆ ... ┆ 114.8    ┆ 105.3      ┆ 67.8      ┆ 63.1        │\n",
       "└─────┴───────────┴───────┴───────────┴─────┴──────────┴────────────┴───────────┴─────────────┘"
      ]
     },
     "execution_count": 57,
     "metadata": {},
     "output_type": "execute_result"
    }
   ],
   "source": [
    "tmp_illustration.filter(tmp_illustration['obs']>100) "
   ]
  },
  {
   "cell_type": "code",
   "execution_count": 58,
   "id": "191675cc",
   "metadata": {},
   "outputs": [],
   "source": [
    "id_il = 788\n",
    "tmp_illustration_tiny = tmp_illustration[id_il-3*24:id_il+3*24,:].to_pandas()"
   ]
  },
  {
   "cell_type": "code",
   "execution_count": 59,
   "id": "0f27c98a",
   "metadata": {},
   "outputs": [],
   "source": [
    "tmp_illustration_tiny = tmp_illustration_tiny.set_index('datetime')"
   ]
  },
  {
   "cell_type": "code",
   "execution_count": 60,
   "id": "b493f8ee",
   "metadata": {
    "scrolled": true
   },
   "outputs": [
    {
     "data": {
      "image/png": "[encoded data removed]",
      "text/plain": [
       "<Figure size 720x360 with 1 Axes>"
      ]
     },
     "metadata": {
      "needs_background": "light"
     },
     "output_type": "display_data"
    }
   ],
   "source": [
    "# Non-valid data are seen as missing values. No prediction and uncertainty is thus avalible for these values\n",
    "fig, axs = plt.subplots(figsize=(10, 5))\n",
    "\n",
    "axs.plot(tmp_illustration_tiny.index, 'pred', data=tmp_illustration_tiny, color='black')\n",
    "axs.scatter(tmp_illustration_tiny.index, tmp_illustration_tiny['obs'].values,alpha=0.3)\n",
    "axs.fill_between(tmp_illustration_tiny.index, tmp_illustration_tiny['N0.025'], tmp_illustration_tiny['N0.975'], alpha=0.2)\n",
    "plt.show()"
   ]
  },
  {
   "cell_type": "code",
   "execution_count": null,
   "id": "c430c9a0",
   "metadata": {},
   "outputs": [],
   "source": []
  },
  {
   "cell_type": "code",
   "execution_count": null,
   "id": "468cd6af",
   "metadata": {},
   "outputs": [],
   "source": []
  }
 ],
 "metadata": {
  "kernelspec": {
   "display_name": "Python 3 (ipykernel)",
   "language": "python",
   "name": "python3"
  },
  "language_info": {
   "codemirror_mode": {
    "name": "ipython",
    "version": 3
   },
   "file_extension": ".py",
   "mimetype": "text/x-python",
   "name": "python",
   "nbconvert_exporter": "python",
   "pygments_lexer": "ipython3",
   "version": "3.8.10"
  }
 },
 "nbformat": 4,
 "nbformat_minor": 5
}
